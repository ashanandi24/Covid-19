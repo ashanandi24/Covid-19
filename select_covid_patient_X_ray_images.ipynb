{
 "cells": [
  {
   "cell_type": "code",
   "execution_count": 1,
   "metadata": {},
   "outputs": [],
   "source": [
    "'''\n",
    "This code finds all images of patients of a specified VIRUS and X-Ray view and stores selected image to an OUTPUT directory\n",
    "+ It uses metadata.csv for searching and retrieving images name\n",
    "+ Using ./images folder it selects the retrieved images and copies them in output folder\n",
    "Code can be modified for any combination of selection of images\n",
    "'''\n",
    "\n",
    "import pandas as pd\n",
    "import shutil\n",
    "import os\n",
    "\n",
    "# Selecting all combination of 'COVID-19' patients with 'PA' X-Ray view\n",
    "virus = \"COVID-19\" # Virus to look for\n",
    "x_ray_view = \"PA\" # View of X-Ray\n",
    "\n",
    "metadata = \"./metadata.csv\" # Meta info\n",
    "imageDir = \"../images\" # Directory of images\n",
    "outputDir = '../output' # Output directory to store selected images\n",
    "\n",
    "metadata_csv = pd.read_csv(metadata)\n",
    "\n",
    "# loop over the rows of the COVID-19 data frame\n",
    "for (i, row) in metadata_csv.iterrows():\n",
    "\tif row[\"finding\"] != virus or row[\"view\"] != x_ray_view:\n",
    "\t\tcontinue\n",
    "\n",
    "\tfilename = row[\"filename\"].split(os.path.sep)[-1]\n",
    "\tfilePath = os.path.sep.join([imageDir, filename])\n",
    "\tshutil.copy2(filePath, outputDir)\n"
   ]
  }
 ],
 "metadata": {
  "kernelspec": {
   "display_name": "Python 3",
   "language": "python",
   "name": "python3"
  },
  "language_info": {
   "codemirror_mode": {
    "name": "ipython",
    "version": 3
   },
   "file_extension": ".py",
   "mimetype": "text/x-python",
   "name": "python",
   "nbconvert_exporter": "python",
   "pygments_lexer": "ipython3",
   "version": "3.7.3"
  }
 },
 "nbformat": 4,
 "nbformat_minor": 2
}
